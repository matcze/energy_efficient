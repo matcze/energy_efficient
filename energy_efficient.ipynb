{
 "cells": [
  {
   "cell_type": "code",
   "execution_count": 1,
   "id": "719b8e6e",
   "metadata": {},
   "outputs": [],
   "source": [
    "import pandas as pd\n",
    "import numpy as np\n",
    "import matplotlib.pyplot as plt\n",
    "import sklearn"
   ]
  },
  {
   "cell_type": "code",
   "execution_count": 2,
   "id": "368d7e0f",
   "metadata": {},
   "outputs": [],
   "source": [
    "dataset = pd.read_excel(\"energy_efficient.xlsx\")"
   ]
  },
  {
   "cell_type": "code",
   "execution_count": 3,
   "id": "a485b3df",
   "metadata": {},
   "outputs": [],
   "source": [
    "X = dataset.iloc[:, :8]   # first 8 columns = features\n",
    "y_heating = dataset.iloc[:, 8]   # 9th column\n",
    "y_cooling = dataset.iloc[:, 9]   # 10th column"
   ]
  },
  {
   "cell_type": "code",
   "execution_count": 4,
   "id": "b14d44eb",
   "metadata": {},
   "outputs": [],
   "source": [
    "threshold = y_heating.median()\n",
    "y = (y_heating <= threshold).astype(int)"
   ]
  }
 ],
 "metadata": {
  "kernelspec": {
   "display_name": "Python 3",
   "language": "python",
   "name": "python3"
  },
  "language_info": {
   "codemirror_mode": {
    "name": "ipython",
    "version": 3
   },
   "file_extension": ".py",
   "mimetype": "text/x-python",
   "name": "python",
   "nbconvert_exporter": "python",
   "pygments_lexer": "ipython3",
   "version": "3.11.0"
  }
 },
 "nbformat": 4,
 "nbformat_minor": 5
}
